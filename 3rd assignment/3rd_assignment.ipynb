{
 "cells": [
  {
   "cell_type": "markdown",
   "metadata": {},
   "source": [
    "# Pattern Recognition\n",
    "\n",
    "## Luca Nogueira Ribeiro"
   ]
  },
  {
   "cell_type": "markdown",
   "metadata": {},
   "source": [
    "### First exercise"
   ]
  },
  {
   "cell_type": "code",
   "execution_count": 43,
   "metadata": {
    "collapsed": true
   },
   "outputs": [],
   "source": [
    "%matplotlib inline\n",
    "import numpy as np\n",
    "import pylab as pl\n",
    "\n",
    "mu = np.array([[3.0],[1.0],[2.0]])\n",
    "mu.shape = (3,1) # Force mu to be a column vector\n",
    "\n",
    "K = np.array([[0.5, 0.2, 0.1],\n",
    "              [0.6, 0.18, 0.4],\n",
    "              [0.1, 0.6, 0.2]])\n",
    "\n",
    "x = np.array([[0],[0.5], [1]])\n",
    "x.shape = (3,1)"
   ]
  },
  {
   "cell_type": "markdown",
   "metadata": {},
   "source": [
    "#### Util functions"
   ]
  },
  {
   "cell_type": "code",
   "execution_count": 113,
   "metadata": {
    "collapsed": false
   },
   "outputs": [],
   "source": [
    "def getPartitions(M):\n",
    "    if not isinstance(M, np.ndarray):\n",
    "        raise TypeError('O argumento M deve ser do tipo numpy.ndarray')\n",
    "    \n",
    "    if M.shape == (3,3):\n",
    "        Maa = M[0:2, 0:2]\n",
    "        Mbb = M[2,2]\n",
    "        Mab = M[0:2,2]\n",
    "        Mba = M[2,0:2]\n",
    "\n",
    "        # Force Mab and Mba to be column and row vectors\n",
    "        Mab.shape = (2,1)\n",
    "        Mba.shape = (1,2)\n",
    "\n",
    "        return Maa, Mbb, Mab, Mba\n",
    "    elif M.shape == (3,1):\n",
    "        Ma = M[0:2]\n",
    "        Mb = M[2]\n",
    "\n",
    "        # Force Ma to be a column vector\n",
    "        Ma.shape = (2,1)\n",
    "\n",
    "        return Ma, Mb\n",
    "    else:\n",
    "        raise Exception('Argumento M deve ser uma matriz de dimensões 3x3 ou 3x1.')\n",
    "\n",
    "def getPrecision(C):\n",
    "    return np.linalg.inv(C)\n",
    "\n",
    "def getCondCov(C):\n",
    "    Caa, Cbb, Cab, Cba = getPartitions(C)\n",
    "    #iCbb = np.linalg.inv(Cbb)\n",
    "    iCbb = 1.0/Cbb\n",
    "    return Caa - np.dot(Cab, np.dot(iCbb, Cba))\n",
    "\n",
    "def getCondMean(C, mu, x):\n",
    "    Caa, Cbb, Cab, Cba = getPartitions(C)\n",
    "    #iCbb = np.linalg.inv(Cbb)\n",
    "    iCbb = 1.0/Cbb\n",
    "    mu_a, mu_b = getPartitions(mu)  \n",
    "    xa, xb = getPartitions(x)\n",
    "    aux = np.dot(np.dot(Cab, iCbb),(xb - mu_b))\n",
    "    aux.shape = (2,1)\n",
    "    return mu_a + aux\n",
    "\n",
    "def getCondProb(x, C):\n",
    "    xa, xb = getPartitions(x)\n",
    "    ma, mb = getPartitions(mu)\n",
    "    P = getPrecision(C)\n",
    "    Paa, Pbb, Pab, Pba = getPartitions(P)\n",
    "    \n",
    "    e_aa = -0.5*np.dot((xa - ma).T, np.dot(Paa, (xa - ma)))\n",
    "    e_ab = -0.5*np.dot((xa - ma).T, np.dot(Pab, (xb - mb)))\n",
    "    e_ba = -0.5*np.dot((xb - mb).T, np.dot(Pba, (xa - ma)))\n",
    "    e_bb = -0.5*np.dot((xb - mb).T, np.dot(Pbb, (xb - mb)))\n",
    "    \n",
    "    e = e_aa - e_ab - np.float(e_ba) - np.float(e_bb)\n",
    "    f = (1.0/((2*np.pi)**(3.0/2.0)))*1.0/(np.sqrt(np.linalg.det(C)))\n",
    "    \n",
    "    return f*np.exp(e)\n",
    "        \n",
    "def printInfo(C):\n",
    "    # Calculate the partitions of the covariance matrix\n",
    "    Caa, Cbb, Cab, Cba = getPartitions(C)\n",
    "    print 'Caa:'\n",
    "    print Caa\n",
    "    print 'Cbb:'\n",
    "    print Cbb\n",
    "    print 'Cab:'\n",
    "    print Cab\n",
    "    print 'Cba:'\n",
    "    print Cba\n",
    "\n",
    "    # Calculate the partitions of the precision matrix\n",
    "    P = getPrecision(C)\n",
    "    Paa, Pbb, Pab, Pba = getPartitions(P)\n",
    "\n",
    "    # Calculate the conditional covariance matrix\n",
    "    condC = getCondCov(C)\n",
    "    print 'condC:'\n",
    "    print condC\n",
    "\n",
    "    # Calculate the partitions of the mean vector\n",
    "    mu_a, mu_b = getPartitions(mu)\n",
    "    print 'mu:'\n",
    "    print mu\n",
    "    print 'mu_a:'\n",
    "    print mu_a\n",
    "    print 'mu_b:'\n",
    "    print mu_b\n",
    "\n",
    "    # Calculate the conditional mean vector\n",
    "    condMean = getCondMean(C, mu, x)\n",
    "    print 'condMean:'\n",
    "    print condMean\n",
    "\n",
    "    # Calculate the probability \n",
    "    prob = getCondProb(x, C)\n",
    "    print 'prob: ', prob    "
   ]
  },
  {
   "cell_type": "code",
   "execution_count": 144,
   "metadata": {
    "collapsed": false
   },
   "outputs": [
    {
     "name": "stdout",
     "output_type": "stream",
     "text": [
      "-0.0838\n",
      "-80.9235109164\n",
      "[[-80.92351092]]\n",
      "[[  7.16746784e-36]]\n"
     ]
    }
   ],
   "source": [
    "C = np.dot(K,K.T)\n",
    "\n",
    "print np.linalg.det(K)\n",
    "\n",
    "xa, xb = getPartitions(x)\n",
    "ma, mb = getPartitions(mu)\n",
    "P = getPrecision(C)\n",
    "Paa, Pbb, Pab, Pba = getPartitions(P)\n",
    "\n",
    "e_aa = 0.5*np.dot((xa - ma).T, np.dot(Paa, (xa - ma)))\n",
    "e_ab = 0.5*np.dot((xa - ma).T, np.dot(Pab, (xb - mb)))\n",
    "e_ba = 0.5*np.dot((xb - mb).T, np.dot(Pba, (xa - ma)))\n",
    "e_bb = 0.5*np.dot((xb - mb).T, np.dot(Pbb, (xb - mb)))\n",
    "\n",
    "\n",
    "e = -np.float(e_aa) - np.float(e_ab) - np.float(e_ba) - np.float(e_bb)\n",
    "f = (1.0/((2*np.pi)**(3.0/2.0)))*1.0/(np.sqrt(np.linalg.det(C)))\n",
    "\n",
    "print e\n",
    "print -0.5*np.dot((x-mu).T, np.dot(P, (x-mu)))\n",
    "print np.exp(-0.5*np.dot((x-mu).T, np.dot(P, (x-mu))))\n"
   ]
  },
  {
   "cell_type": "markdown",
   "metadata": {},
   "source": [
    "#### First covariance matrix"
   ]
  },
  {
   "cell_type": "code",
   "execution_count": 120,
   "metadata": {
    "collapsed": false
   },
   "outputs": [
    {
     "name": "stdout",
     "output_type": "stream",
     "text": [
      "C1:\n",
      "[[ 4.  0.  0.]\n",
      " [ 0.  4.  0.]\n",
      " [ 0.  0.  4.]]\n",
      "[[ 0. ]\n",
      " [ 0.5]]\n",
      "[[ 3.]\n",
      " [ 1.]]\n",
      "[[-3.  -0.5]]\n"
     ]
    }
   ],
   "source": [
    "# Build covariance matrix\n",
    "k = 4.0\n",
    "C1 = k * np.eye(3)\n",
    "print 'C1:'\n",
    "print C1\n",
    "\n",
    "#printInfo(C1)\n",
    "xa, xb = getPartitions(x)\n",
    "ma, mb = getPartitions(mu)\n",
    "\n",
    "print xa\n",
    "print ma\n",
    "print (xa-ma).T"
   ]
  },
  {
   "cell_type": "code",
   "execution_count": 111,
   "metadata": {
    "collapsed": false
   },
   "outputs": [
    {
     "name": "stdout",
     "output_type": "stream",
     "text": [
      "C2:\n",
      "[[ 0.3     0.376   0.19  ]\n",
      " [ 0.376   0.5524  0.248 ]\n",
      " [ 0.19    0.248   0.41  ]]\n",
      "0.0838\n",
      "Caa:\n",
      "[[ 0.3     0.376 ]\n",
      " [ 0.376   0.5524]]\n",
      "Cbb:\n",
      "0.41\n",
      "Cab:\n",
      "[[ 0.19 ]\n",
      " [ 0.248]]\n",
      "Cba:\n",
      "[[ 0.19   0.248]]\n",
      "condC:\n",
      "[[ 0.21195122  0.26107317]\n",
      " [ 0.26107317  0.40239024]]\n",
      "mu:\n",
      "[[ 3.]\n",
      " [ 1.]\n",
      " [ 2.]]\n",
      "mu_a:\n",
      "[[ 3.]\n",
      " [ 1.]]\n",
      "mu_b:\n",
      "[ 2.]\n",
      "condMean:\n",
      "[[ 2.53658537]\n",
      " [ 0.39512195]]\n",
      "Debug:\n",
      "87.8817761348\n",
      "1.467474067e+38\n",
      "prob:  1.11187666054e+38\n"
     ]
    }
   ],
   "source": [
    "# Second covariance matrix\n",
    "C2 = np.dot(K, K.T)\n",
    "print 'C2:'\n",
    "print C2\n",
    "\n",
    "print np.sqrt(np.linalg.det(C2))\n",
    "\n",
    "printInfo(C2)"
   ]
  },
  {
   "cell_type": "code",
   "execution_count": 112,
   "metadata": {
    "collapsed": false
   },
   "outputs": [
    {
     "name": "stdout",
     "output_type": "stream",
     "text": [
      "[[ 0.3     0.      0.    ]\n",
      " [ 0.      0.5524  0.    ]\n",
      " [ 0.      0.      0.41  ]]\n"
     ]
    }
   ],
   "source": [
    "# Third covariance matrix\n",
    "C3 = np.zeros((3,3))\n",
    "\n",
    "d = np.diag(C2)\n",
    "\n",
    "for n in range(3):\n",
    "    C3[n,n] = d[n]\n",
    "    \n",
    "print C3"
   ]
  },
  {
   "cell_type": "code",
   "execution_count": null,
   "metadata": {
    "collapsed": true
   },
   "outputs": [],
   "source": []
  }
 ],
 "metadata": {
  "kernelspec": {
   "display_name": "Python 2",
   "language": "python",
   "name": "python2"
  },
  "language_info": {
   "codemirror_mode": {
    "name": "ipython",
    "version": 2
   },
   "file_extension": ".py",
   "mimetype": "text/x-python",
   "name": "python",
   "nbconvert_exporter": "python",
   "pygments_lexer": "ipython2",
   "version": "2.7.6"
  }
 },
 "nbformat": 4,
 "nbformat_minor": 0
}
