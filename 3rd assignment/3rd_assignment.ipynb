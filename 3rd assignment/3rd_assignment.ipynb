{
 "cells": [
  {
   "cell_type": "markdown",
   "metadata": {},
   "source": [
    "# Pattern Recognition\n",
    "\n",
    "# Lucas Nogueira Ribeiro"
   ]
  },
  {
   "cell_type": "markdown",
   "metadata": {},
   "source": [
    "## First exercise"
   ]
  },
  {
   "cell_type": "code",
   "execution_count": 9,
   "metadata": {
    "collapsed": true
   },
   "outputs": [],
   "source": [
    "%matplotlib inline\n",
    "import numpy as np\n",
    "import pylab as pl\n",
    "import scipy as sc\n",
    "\n",
    "mu = np.array([[3.0],[1.0],[2.0]])\n",
    "mu.shape = (3,1) # Force mu to be a column vector\n",
    "\n",
    "K = np.array([[0.5, 0.2, 0.1],\n",
    "              [0.6, 0.18, 0.4],\n",
    "              [0.1, 0.6, 0.2]])\n",
    "\n",
    "x = np.array([[0],[0.5], [1]])\n",
    "x.shape = (3,1)"
   ]
  },
  {
   "cell_type": "markdown",
   "metadata": {},
   "source": [
    "### Util functions"
   ]
  },
  {
   "cell_type": "code",
   "execution_count": 2,
   "metadata": {
    "collapsed": false
   },
   "outputs": [],
   "source": [
    "def getPartitions(M):\n",
    "    if not isinstance(M, np.ndarray):\n",
    "        raise TypeError('O argumento M deve ser do tipo numpy.ndarray')\n",
    "    \n",
    "    if M.shape == (3,3):\n",
    "        Maa = M[0:2, 0:2]\n",
    "        Mbb = M[2,2]\n",
    "        Mab = M[0:2,2]\n",
    "        Mba = M[2,0:2]\n",
    "\n",
    "        # Force Mab and Mba to be column and row vectors\n",
    "        Mab.shape = (2,1)\n",
    "        Mba.shape = (1,2)\n",
    "\n",
    "        return Maa, Mbb, Mab, Mba\n",
    "    elif M.shape == (3,1):\n",
    "        Ma = M[0:2]\n",
    "        Mb = M[2]\n",
    "\n",
    "        # Force Ma to be a column vector\n",
    "        Ma.shape = (2,1)\n",
    "\n",
    "        return Ma, Mb\n",
    "    else:\n",
    "        raise Exception('Argumento M deve ser uma matriz de dimensões 3x3 ou 3x1.')\n",
    "\n",
    "def getPrecision(C):\n",
    "    return np.linalg.inv(C)\n",
    "\n",
    "def getCondCov(C):\n",
    "    Caa, Cbb, Cab, Cba = getPartitions(C)\n",
    "    #iCbb = np.linalg.inv(Cbb)\n",
    "    iCbb = 1.0/Cbb\n",
    "    return Caa - np.dot(Cab, np.dot(iCbb, Cba))\n",
    "\n",
    "def getCondMean(C, mu, x):\n",
    "    Caa, Cbb, Cab, Cba = getPartitions(C)\n",
    "    #iCbb = np.linalg.inv(Cbb)\n",
    "    iCbb = 1.0/Cbb\n",
    "    mu_a, mu_b = getPartitions(mu)  \n",
    "    xa, xb = getPartitions(x)\n",
    "    aux = np.dot(np.dot(Cab, iCbb),(xb - mu_b))\n",
    "    aux.shape = (2,1)\n",
    "    return mu_a + aux\n",
    "\n",
    "def getCondProb(x, C):\n",
    "    xa, xb = getPartitions(x)\n",
    "    ma, mb = getPartitions(mu)\n",
    "    P = getPrecision(C)\n",
    "    Paa, Pbb, Pab, Pba = getPartitions(P)\n",
    "    \n",
    "    e_aa = -0.5*np.dot((xa - ma).T, np.dot(Paa, (xa - ma)))\n",
    "    e_ab = -0.5*np.dot((xa - ma).T, np.dot(Pab, (xb - mb)))\n",
    "    e_ba = -0.5*np.dot((xb - mb).T, np.dot(Pba, (xa - ma)))\n",
    "    e_bb = -0.5*np.dot((xb - mb).T, np.dot(Pbb, (xb - mb)))\n",
    "    \n",
    "    e = e_aa - e_ab - e_ba - e_bb\n",
    "    f = (1.0/((2*np.pi)**(3.0/2.0)))*1.0/(np.sqrt(np.linalg.det(C)))\n",
    "    \n",
    "    return f*np.exp(e)\n",
    "        \n",
    "def printInfo(C):\n",
    "    # Calculate the partitions of the covariance matrix\n",
    "    Caa, Cbb, Cab, Cba = getPartitions(C)\n",
    "    print 'Caa:'\n",
    "    print Caa\n",
    "    print 'Cbb:'\n",
    "    print Cbb\n",
    "    print 'Cab:'\n",
    "    print Cab\n",
    "    print 'Cba:'\n",
    "    print Cba\n",
    "\n",
    "    # Calculate the partitions of the precision matrix\n",
    "    P = getPrecision(C)\n",
    "    Paa, Pbb, Pab, Pba = getPartitions(P)\n",
    "\n",
    "    # Calculate the conditional covariance matrix\n",
    "    condC = getCondCov(C)\n",
    "    print 'condC:'\n",
    "    print condC\n",
    "\n",
    "    # Calculate the partitions of the mean vector\n",
    "    mu_a, mu_b = getPartitions(mu)\n",
    "    print 'mu:'\n",
    "    print mu\n",
    "    print 'mu_a:'\n",
    "    print mu_a\n",
    "    print 'mu_b:'\n",
    "    print mu_b\n",
    "\n",
    "    # Calculate the conditional mean vector\n",
    "    condMean = getCondMean(C, mu, x)\n",
    "    print 'condMean:'\n",
    "    print condMean\n",
    "\n",
    "    # Calculate the probability \n",
    "    prob = getCondProb(x, C)\n",
    "    print 'prob: ', prob    "
   ]
  },
  {
   "cell_type": "markdown",
   "metadata": {},
   "source": [
    "### First covariance matrix"
   ]
  },
  {
   "cell_type": "code",
   "execution_count": 3,
   "metadata": {
    "collapsed": false
   },
   "outputs": [
    {
     "name": "stdout",
     "output_type": "stream",
     "text": [
      "C1:\n",
      "[[ 4.  0.  0.]\n",
      " [ 0.  4.  0.]\n",
      " [ 0.  0.  4.]]\n",
      "Caa:\n",
      "[[ 4.  0.]\n",
      " [ 0.  4.]]\n",
      "Cbb:\n",
      "4.0\n",
      "Cab:\n",
      "[[ 0.]\n",
      " [ 0.]]\n",
      "Cba:\n",
      "[[ 0.  0.]]\n",
      "condC:\n",
      "[[ 4.  0.]\n",
      " [ 0.  4.]]\n",
      "mu:\n",
      "[[ 3.]\n",
      " [ 1.]\n",
      " [ 2.]]\n",
      "mu_a:\n",
      "[[ 3.]\n",
      " [ 1.]]\n",
      "mu_b:\n",
      "[ 2.]\n",
      "condMean:\n",
      "[[ 3.]\n",
      " [ 1.]]\n",
      "prob:  [[ 0.00282992]]\n"
     ]
    }
   ],
   "source": [
    "# Build covariance matrix\n",
    "k = 4.0\n",
    "C1 = k * np.eye(3)\n",
    "print 'C1:'\n",
    "print C1\n",
    "\n",
    "printInfo(C1)"
   ]
  },
  {
   "cell_type": "markdown",
   "metadata": {},
   "source": [
    "### Second covariance matrix"
   ]
  },
  {
   "cell_type": "code",
   "execution_count": 4,
   "metadata": {
    "collapsed": false
   },
   "outputs": [
    {
     "name": "stdout",
     "output_type": "stream",
     "text": [
      "C2:\n",
      "[[ 0.3     0.376   0.19  ]\n",
      " [ 0.376   0.5524  0.248 ]\n",
      " [ 0.19    0.248   0.41  ]]\n",
      "Caa:\n",
      "[[ 0.3     0.376 ]\n",
      " [ 0.376   0.5524]]\n",
      "Cbb:\n",
      "0.41\n",
      "Cab:\n",
      "[[ 0.19 ]\n",
      " [ 0.248]]\n",
      "Cba:\n",
      "[[ 0.19   0.248]]\n",
      "condC:\n",
      "[[ 0.21195122  0.26107317]\n",
      " [ 0.26107317  0.40239024]]\n",
      "mu:\n",
      "[[ 3.]\n",
      " [ 1.]\n",
      " [ 2.]]\n",
      "mu_a:\n",
      "[[ 3.]\n",
      " [ 1.]]\n",
      "mu_b:\n",
      "[ 2.]\n",
      "condMean:\n",
      "[[ 2.53658537]\n",
      " [ 0.39512195]]\n",
      "prob:  [[  5.16316190e-39]]\n"
     ]
    }
   ],
   "source": [
    "# Build covariance matrix\n",
    "C2 = np.dot(K, K.T)\n",
    "print 'C2:'\n",
    "print C2\n",
    "\n",
    "printInfo(C2)"
   ]
  },
  {
   "cell_type": "markdown",
   "metadata": {},
   "source": [
    "### Thrid covariance matrix"
   ]
  },
  {
   "cell_type": "code",
   "execution_count": 5,
   "metadata": {
    "collapsed": false
   },
   "outputs": [
    {
     "name": "stdout",
     "output_type": "stream",
     "text": [
      "[[ 0.3     0.      0.    ]\n",
      " [ 0.      0.5524  0.    ]\n",
      " [ 0.      0.      0.41  ]]\n",
      "Caa:\n",
      "[[ 0.3     0.    ]\n",
      " [ 0.      0.5524]]\n",
      "Cbb:\n",
      "0.41\n",
      "Cab:\n",
      "[[ 0.]\n",
      " [ 0.]]\n",
      "Cba:\n",
      "[[ 0.  0.]]\n",
      "condC:\n",
      "[[ 0.3     0.    ]\n",
      " [ 0.      0.5524]]\n",
      "mu:\n",
      "[[ 3.]\n",
      " [ 1.]\n",
      " [ 2.]]\n",
      "mu_a:\n",
      "[[ 3.]\n",
      " [ 1.]]\n",
      "mu_b:\n",
      "[ 2.]\n",
      "condMean:\n",
      "[[ 3.]\n",
      " [ 1.]]\n",
      "prob:  [[  2.01180803e-07]]\n"
     ]
    }
   ],
   "source": [
    "# Build covariance matrix\n",
    "C3 = np.zeros((3,3))\n",
    "\n",
    "d = np.diag(C2)\n",
    "\n",
    "for n in range(3):\n",
    "    C3[n,n] = d[n]\n",
    "    \n",
    "print C3\n",
    "\n",
    "printInfo(C3)"
   ]
  },
  {
   "cell_type": "markdown",
   "metadata": {},
   "source": [
    "## Second exercise\n",
    "\n",
    "$ \\mathcal{N}(\\mathbf{x}|\\mathbf{\\mu}, \\mathbf{\\Sigma}) = \\frac{1}{(2\\pi)^{D/2}}  \\frac{1}{|\\Sigma|^{1/2}}\\exp^{-\\frac{1}{2}(\\mathbf{x}-\\mathbf{\\mu})^T \\Sigma^{-1}(\\mathbf{x}-\\mathbf{\\mu})}$"
   ]
  },
  {
   "cell_type": "markdown",
   "metadata": {},
   "source": [
    "### First covariance matrix"
   ]
  },
  {
   "cell_type": "code",
   "execution_count": 6,
   "metadata": {
    "collapsed": false
   },
   "outputs": [
    {
     "name": "stdout",
     "output_type": "stream",
     "text": [
      "0.00700411713073\n",
      "[ 2.]\n",
      "4.0\n"
     ]
    }
   ],
   "source": [
    "Caa, Cbb, Cab, Cba = getPartitions(C1)\n",
    "ma, mb = getPartitions(mu)\n",
    "xa, xb = getPartitions(x)\n",
    "\n",
    "iCbb = 1.0/Cbb\n",
    "f = (1.0/((2*np.pi)**(3.0/2.0)))*1.0/(np.sqrt(np.linalg.det(C1)))\n",
    "pb = f * np.exp(-0.5*np.dot((xb-mb).T, np.dot(iCbb, (xb-mb))))\n",
    "print pb\n",
    "print mb\n",
    "print Cbb"
   ]
  },
  {
   "cell_type": "markdown",
   "metadata": {},
   "source": [
    "### Second covariance matrix"
   ]
  },
  {
   "cell_type": "code",
   "execution_count": 7,
   "metadata": {
    "collapsed": false
   },
   "outputs": [
    {
     "name": "stdout",
     "output_type": "stream",
     "text": [
      "0.223799319618\n",
      "[ 2.]\n",
      "0.41\n"
     ]
    }
   ],
   "source": [
    "Caa, Cbb, Cab, Cba = getPartitions(C2)\n",
    "ma, mb = getPartitions(mu)\n",
    "xa, xb = getPartitions(x)\n",
    "\n",
    "iCbb = 1.0/Cbb\n",
    "f = (1.0/((2*np.pi)**(3.0/2.0)))*1.0/(np.sqrt(np.linalg.det(C2)))\n",
    "pb = f * np.exp(-0.5*np.dot((xb-mb).T, np.dot(iCbb, (xb-mb))))\n",
    "print pb\n",
    "print mb\n",
    "print Cbb"
   ]
  },
  {
   "cell_type": "markdown",
   "metadata": {},
   "source": [
    "### Third covariance matrix"
   ]
  },
  {
   "cell_type": "code",
   "execution_count": 8,
   "metadata": {
    "collapsed": false
   },
   "outputs": [
    {
     "name": "stdout",
     "output_type": "stream",
     "text": [
      "0.0719487726472\n",
      "[ 2.]\n",
      "0.41\n"
     ]
    }
   ],
   "source": [
    "Caa, Cbb, Cab, Cba = getPartitions(C3)\n",
    "ma, mb = getPartitions(mu)\n",
    "xa, xb = getPartitions(x)\n",
    "\n",
    "iCbb = 1.0/Cbb\n",
    "f = (1.0/((2*np.pi)**(3.0/2.0)))*1.0/(np.sqrt(np.linalg.det(C3)))\n",
    "pb = f * np.exp(-0.5*np.dot((xb-mb).T, np.dot(iCbb, (xb-mb))))\n",
    "print pb\n",
    "print mb\n",
    "print Cbb"
   ]
  },
  {
   "cell_type": "markdown",
   "metadata": {},
   "source": [
    "## Third exercise"
   ]
  },
  {
   "cell_type": "code",
   "execution_count": 48,
   "metadata": {
    "collapsed": true
   },
   "outputs": [],
   "source": [
    "from scipy.special import gamma\n",
    "\n",
    "def student(x, mu, lamb, upsilon):\n",
    "    g = gamma(upsilon/2.0 + 0.5)/gamma(upsilon/2.0)\n",
    "    l = np.sqrt(lamb/(np.pi*upsilon))\n",
    "    f = (1 + (lamb*(x-mu)**2.0)/upsilon)**(-upsilon/2.0-0.5)\n",
    "    return g*l*f\n",
    "\n",
    "def gauss(x, mu, sigma):\n",
    "    return (1.0/(np.sqrt(2*np.pi*sigma**2.0)))*np.exp((-1.0/(2*sigma**2.0))*(x-mu)**2.0)"
   ]
  },
  {
   "cell_type": "code",
   "execution_count": 66,
   "metadata": {
    "collapsed": false,
    "scrolled": true
   },
   "outputs": [
    {
     "data": {
      "text/plain": [
       "<matplotlib.legend.Legend at 0x7fd2b9323ad0>"
      ]
     },
     "execution_count": 66,
     "metadata": {},
     "output_type": "execute_result"
    },
    {
     "data": {
      "image/png": "[encoded data removed]",
      "text/plain": [
       "<matplotlib.figure.Figure at 0x7fd2b92bb810>"
      ]
     },
     "metadata": {},
     "output_type": "display_data"
    }
   ],
   "source": [
    "# plot parameters\n",
    "mu = 0.0   \n",
    "lamb = 1.0  # replace with 2.0 (weird curves ...)\n",
    "sigma = 1.0\n",
    "t = np.linspace(-10.0, 10.0, 1000)\n",
    "upsilon_style_list = [(0.01,'r'), (0.1,'g'), (1, 'b'), (10,'k'), (100, 'm')]\n",
    "\n",
    "pl.figure(figsize=(12,8), dpi=1000)\n",
    "\n",
    "# plot student distributions\n",
    "for upsilon, style in upsilon_style_list:\n",
    "    y = [ student(x, mu, lamb, upsilon) for x in t]\n",
    "    pl.plot(t, y, style)\n",
    "    \n",
    "# plot gaussian distribution    \n",
    "g = [ gauss(x, mu, sigma) for x in t]\n",
    "pl.plot(t, g, '--k')\n",
    "\n",
    "# configure figure\n",
    "pl.xlabel('$x$', fontsize=16)\n",
    "pl.ylabel('St[$x,\\mu,\\lambda,\\upsilon$]', fontsize=16)\n",
    "pl.title('$\\mu$ = {}, $\\lambda$ = {}, $\\sigma$ = {}'.format(mu, lamb, sigma), fontsize=16)\n",
    "pl.legend(['$\\upsilon$ = 0.01',\n",
    "          '$\\upsilon$ = 0.1',\n",
    "          '$\\upsilon$ = 1',\n",
    "          '$\\upsilon$ = 10',\n",
    "          '$\\upsilon$ = 100',\n",
    "          'Gaussian ($\\sigma$ = 1)'], fontsize=16)\n"
   ]
  },
  {
   "cell_type": "code",
   "execution_count": null,
   "metadata": {
    "collapsed": true
   },
   "outputs": [],
   "source": []
  }
 ],
 "metadata": {
  "kernelspec": {
   "display_name": "Python 2",
   "language": "python",
   "name": "python2"
  },
  "language_info": {
   "codemirror_mode": {
    "name": "ipython",
    "version": 2
   },
   "file_extension": ".py",
   "mimetype": "text/x-python",
   "name": "python",
   "nbconvert_exporter": "python",
   "pygments_lexer": "ipython2",
   "version": "2.7.6"
  }
 },
 "nbformat": 4,
 "nbformat_minor": 0
}
